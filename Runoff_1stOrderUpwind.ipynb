{
 "cells": [
  {
   "cell_type": "markdown",
   "metadata": {},
   "source": [
    "# 斜面流の流出\n",
    "\n",
    "$\\dfrac{\\partial h}{\\partial t} + \\dfrac{1}{b} \\dfrac{\\partial (bq)}{\\partial x}= r_e$\n",
    "\n",
    "$q=\\alpha h ^m$\n",
    "\n",
    "$\\alpha = \\sqrt{\\sin \\theta_s}/n_s$\n",
    "\n",
    "$m=5/3$\n",
    "\n",
    "$re = 50[mm/hr]$\n",
    "\n",
    "$n = 0.015$\n",
    "\n"
   ]
  },
  {
   "cell_type": "code",
   "execution_count": 20,
   "metadata": {
    "collapsed": false
   },
   "outputs": [
    {
     "data": {
      "text/plain": [
       "[<matplotlib.lines.Line2D at 0x108fb2f60>]"
      ]
     },
     "execution_count": 20,
     "metadata": {},
     "output_type": "execute_result"
    },
    {
     "data": {
      "image/png": "[encoded data removed]",
      "text/plain": [
       "<matplotlib.figure.Figure at 0x108a12dd8>"
      ]
     },
     "metadata": {},
     "output_type": "display_data"
    }
   ],
   "source": [
    "%matplotlib inline\n",
    "import math\n",
    "import matplotlib.pyplot as plt\n",
    "n = 0.015\n",
    "# 単位を変換\n",
    "re = 50.0/1000.0/3600.0\n",
    "mx = 10\n",
    "length = 200.0\n",
    "dx = length / mx\n",
    "dt = 10.0\n",
    "theta = 10.0\n",
    "alpha = math.sqrt(math.sin(theta/ 360.0*2*math.pi))/n\n",
    "m = 5.0 / 3.0\n",
    "b = []\n",
    "h = []\n",
    "hn = []\n",
    "q = []\n",
    "time_min = []\n",
    "out = []\n",
    "for i in range(mx):\n",
    "    b.append(length)\n",
    "    h.append(0.0)\n",
    "    hn.append(0.0)\n",
    "    q.append(0.0)\n",
    "    #print(b[i])\n",
    "for t in range(500):\n",
    "    # 雨の設定\n",
    "    if t * dt < 60:\n",
    "        r = re\n",
    "    else:\n",
    "        r = 0.0\n",
    "    for i in range(1,mx):\n",
    "        hn[i] = h[i] + r * dt - m * alpha * h[i]**(m-1.0) * (h[i] - h[i-1])/dx*dt\n",
    "    for i in range(1,mx):\n",
    "        h[i] = hn[i]\n",
    "        q[i] = alpha * h[i]**m\n",
    "        \n",
    "    #print (t*dt,h[mx-1])\n",
    "    time_min.append(t*dt / 60.0)\n",
    "    out.append(q[mx-1]*b[mx-1])\n",
    "    if t * dt > 60 * 20:\n",
    "        break\n",
    "plt.plot(time_min,out)\n"
   ]
  },
  {
   "cell_type": "code",
   "execution_count": null,
   "metadata": {
    "collapsed": true
   },
   "outputs": [],
   "source": []
  }
 ],
 "metadata": {
  "kernelspec": {
   "display_name": "Python 3",
   "language": "python",
   "name": "python3"
  },
  "language_info": {
   "codemirror_mode": {
    "name": "ipython",
    "version": 3
   },
   "file_extension": ".py",
   "mimetype": "text/x-python",
   "name": "python",
   "nbconvert_exporter": "python",
   "pygments_lexer": "ipython3",
   "version": "3.5.0"
  }
 },
 "nbformat": 4,
 "nbformat_minor": 0
}
